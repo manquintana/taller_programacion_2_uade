{
  "nbformat": 4,
  "nbformat_minor": 0,
  "metadata": {
    "colab": {
      "name": "Clase 5 - IDEs + Librerías externas (PIP).ipynb",
      "provenance": [],
      "collapsed_sections": []
    },
    "kernelspec": {
      "name": "python3",
      "display_name": "Python 3"
    },
    "language_info": {
      "name": "python"
    }
  },
  "cells": [
    {
      "cell_type": "markdown",
      "metadata": {
        "id": "OloeOklBkzx4"
      },
      "source": [
        "# IDE"
      ]
    },
    {
      "cell_type": "markdown",
      "metadata": {
        "id": "SbPgQ9M03hu0"
      },
      "source": [
        "**¿Qué es un IDE?**\n",
        "\n",
        "Integrated Development Environment (entorno de desarrollo integrado).\n",
        "\n",
        "Un IDE:\n",
        "- Es un software que facilita la tarea a la hora de programar\n",
        "- Generalmente los IDEs funcionan para varios lenguajes de programación\n",
        "- Suelen ofrecer autoindentación (es la alineación del código)\n",
        "- Suelen ofrecer descripción de los métodos\n",
        "- Colores\n",
        "- En casi todos los casos desde el mismo IDE se puede ejecutar el código\n",
        "- Hay IDEs que son online y otros hay que instalarlos\n",
        "\n",
        "\n",
        "\n",
        "**IDEs recomendados para python:**\n",
        "\n",
        "Ide Online:\n",
        "- Repl.it (replit.com/languages/python3)\n",
        "\n",
        "Editores de texto màs lindos:\n",
        "- Sublime (este es mas parecido a un editor de texto convencional)\n",
        "- Notepad++ (este es mas parecido a un editor de texto convencional)\n",
        "\n",
        "IDEs más tradicionales:\n",
        "- Visual Studio Code\n",
        "- Pycharm (muy parecido al Visual Studio)\n",
        "- Thonny\n",
        "- Spyder (especialmente bueno para data science)\n",
        "\n",
        "Notebooks - Facilitan el storytelling:\n",
        "- Google colaboratory (ONLINE)\n",
        "- Jupyter Notebook (OFFLINE)\n",
        "\n",
        "Linea de comandos:\n",
        "- Ejecutando desde una terminal \"python\"\n",
        "\n",
        "\n",
        "\n",
        "\n"
      ]
    },
    {
      "cell_type": "markdown",
      "metadata": {
        "id": "DrfWbnpIr2kr"
      },
      "source": [
        "\n",
        "\n",
        "---\n",
        "\n"
      ]
    },
    {
      "cell_type": "markdown",
      "metadata": {
        "id": "1fFPCMEmr0RG"
      },
      "source": [
        "#Librerías externas"
      ]
    },
    {
      "cell_type": "markdown",
      "metadata": {
        "id": "cckYndB1-e20"
      },
      "source": [
        "**¿Qué es una librería?**\n",
        "\n",
        "- Nos permite agregar funciones\n",
        "- Son diseñadas por programadores y compartidas\n",
        "- Facilitan la tarea de programar ya que proveen estructuras de datos implementadas\n",
        "- Hay librerías para hacer visualizaciones\n",
        "- Hay librerías para trabajar con información geográfica\n",
        "- Hay librerías para hacer Machine Learning\n",
        "- etc\n",
        "\n"
      ]
    },
    {
      "cell_type": "markdown",
      "metadata": {
        "id": "uSKcEvBGAMlQ"
      },
      "source": [
        "#PIP\n",
        "\n",
        "pip es un gestor de paquetes o gestor de librerías.\n",
        "\n",
        "Link para instalar: https://tecnonucleous.com/2018/01/28/como-instalar-pip-para-python-en-windows-mac-y-linux/\n",
        "\n",
        "\n"
      ]
    },
    {
      "cell_type": "markdown",
      "metadata": {
        "id": "D2_S4nDjBAX3"
      },
      "source": [
        "Desde google colaboratory, si queres instalar un paquete que no esté disponible, lo hacemos por linea de comandos de la siguiente manera:"
      ]
    },
    {
      "cell_type": "code",
      "metadata": {
        "colab": {
          "base_uri": "https://localhost:8080/"
        },
        "id": "yOxcbJh4_jS_",
        "outputId": "8cd76b84-a039-4401-af85-c211129a3501"
      },
      "source": [
        "!pip install telegram"
      ],
      "execution_count": 6,
      "outputs": [
        {
          "output_type": "stream",
          "text": [
            "Collecting telegram\n",
            "  Downloading https://files.pythonhosted.org/packages/9d/ca/8bdf2deb93b9f6971dabf2ddc827c2a98ce23e13582a15b37e9bc169f226/telegram-0.0.1.tar.gz\n",
            "Building wheels for collected packages: telegram\n",
            "  Building wheel for telegram (setup.py) ... \u001b[?25l\u001b[?25hdone\n",
            "  Created wheel for telegram: filename=telegram-0.0.1-cp37-none-any.whl size=1309 sha256=b60883144e7367acb91dbef43d77556e6d43af9b6fdd971242cb5366ff9bd1cd\n",
            "  Stored in directory: /root/.cache/pip/wheels/21/a4/d2/c289fe2e3a3050eefb01b2f1f9ef42346272a21bc3082a4342\n",
            "Successfully built telegram\n",
            "Installing collected packages: telegram\n",
            "Successfully installed telegram-0.0.1\n"
          ],
          "name": "stdout"
        }
      ]
    },
    {
      "cell_type": "markdown",
      "metadata": {
        "id": "fJyAmcr1BHI6"
      },
      "source": [
        "Desde nuestra computadora, directamente por linea de comandos sin el \"!\": **pip install telegram**"
      ]
    },
    {
      "cell_type": "markdown",
      "metadata": {
        "id": "C_OKGAPjBVwg"
      },
      "source": [
        "Librerías externas:\n",
        "\n",
        "- tweepy\n",
        "- pyseoanalyzer (SEO - Search Engine Optimization)\n",
        "- pandas\n",
        "- matplotlib\n",
        "- seaborn\n",
        "- numpy"
      ]
    },
    {
      "cell_type": "markdown",
      "metadata": {
        "id": "TszFDPHvCdgW"
      },
      "source": [
        "\n",
        "---\n",
        "\n"
      ]
    },
    {
      "cell_type": "markdown",
      "metadata": {
        "id": "pS0gqVBcChn8"
      },
      "source": [
        "# Pandas\n",
        "\n",
        "pandas nos permite trabajar con DataFrames."
      ]
    },
    {
      "cell_type": "code",
      "metadata": {
        "id": "WAgCNYXyIOkZ"
      },
      "source": [
        "import pandas as pd\n",
        "ruta = \"/netflix_titles.csv\"\n",
        "df = pd.read_csv(ruta)"
      ],
      "execution_count": 28,
      "outputs": []
    },
    {
      "cell_type": "code",
      "metadata": {
        "id": "um-eFm9NMmGj"
      },
      "source": [
        "df"
      ],
      "execution_count": null,
      "outputs": []
    },
    {
      "cell_type": "code",
      "metadata": {
        "id": "eogmIBWXMyTe"
      },
      "source": [
        "print(len(df))"
      ],
      "execution_count": null,
      "outputs": []
    },
    {
      "cell_type": "code",
      "metadata": {
        "id": "ZNH7uKUGMkbq"
      },
      "source": [
        "#Limpieza de datos\n",
        "df['director'] = df['director'].fillna('SIN DIRECTOR') #Reemplaza los valores nulos de una columna por un texto\n",
        "df = df.dropna() #Elimina las filas que contengan nulos\n"
      ],
      "execution_count": 30,
      "outputs": []
    },
    {
      "cell_type": "code",
      "metadata": {
        "colab": {
          "base_uri": "https://localhost:8080/"
        },
        "id": "8ONZl8p0MsLw",
        "outputId": "b7bb8ed4-ef0c-4ff1-8503-8062a5702184"
      },
      "source": [
        "print(len(df))"
      ],
      "execution_count": 31,
      "outputs": [
        {
          "output_type": "stream",
          "text": [
            "6643\n"
          ],
          "name": "stdout"
        }
      ]
    },
    {
      "cell_type": "code",
      "metadata": {
        "id": "UNiwS6EGMqRg"
      },
      "source": [
        "print(df.columns) #Muestra los nombres de las columnas\n",
        "print(df.head()) #Muestra los primeros 5 elementos de la lista\n",
        "print(df.head(10)) #Muestra los primeros 10 elementos de la lista\n",
        "print(df.tail()) #Muestra los ultimos 5 elementos de la lista\n",
        "print(df.tail(2)) #Muestra los ultimos 2 elementos de la lista\n",
        "print(df.describe()) #Muestra analisis estadistico sobre las columnas que sean numericas\n"
      ],
      "execution_count": null,
      "outputs": []
    },
    {
      "cell_type": "code",
      "metadata": {
        "id": "w7IBLossM4ec"
      },
      "source": [
        "ruta_destino = \"/tabla_filtrada.xls\"\n",
        "df.to_excel(ruta_destino, index=False)"
      ],
      "execution_count": 33,
      "outputs": []
    },
    {
      "cell_type": "markdown",
      "metadata": {
        "id": "KWaYddX-Sg6J"
      },
      "source": [
        "\n",
        "\n",
        "---\n",
        "\n"
      ]
    },
    {
      "cell_type": "markdown",
      "metadata": {
        "id": "hXlGMvi_RQu_"
      },
      "source": [
        "**Ejercicio grupal**:\n",
        "\n",
        "Importar el dataset (está compartido en git) en Google colab.\n",
        "\n",
        "Mostrar:\n",
        "- ¿Cuantas películas se lanzaron en 2019?\n",
        "- ¿Cuantas películas se lanzaron entre 2017 y 2018?\n",
        "- ¿Qué cantidad de películas hay publicadas?\n",
        "- ¿Cuántos shows de televisión hay publicados?\n",
        "\n",
        "Plus:\n",
        "- Un gráfico de barras con la cantidad de películas lanzadas por año\n",
        "- Gráficos con países de origen\n",
        "\n",
        "\n",
        "\n"
      ]
    }
  ]
}
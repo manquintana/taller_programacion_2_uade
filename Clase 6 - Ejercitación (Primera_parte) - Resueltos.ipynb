{
  "nbformat": 4,
  "nbformat_minor": 0,
  "metadata": {
    "colab": {
      "name": "Clase 6 - Ejercitación (Primera parte) Resueltos.ipynb",
      "provenance": [],
      "collapsed_sections": []
    },
    "kernelspec": {
      "name": "python3",
      "display_name": "Python 3"
    },
    "language_info": {
      "name": "python"
    }
  },
  "cells": [
    {
      "cell_type": "markdown",
      "metadata": {
        "id": "ALkpfQv7Vv_q"
      },
      "source": [
        "# Clase 6 - Ejercitación primera parte (estructura secuencial, condicional e iterativa)\n",
        "\n",
        "La próxima clase ejercitaremos: Estructuras de datos y funciones\n",
        "\n",
        "\n",
        "---\n",
        "\n"
      ]
    },
    {
      "cell_type": "markdown",
      "metadata": {
        "id": "EVej8ndOYKq8"
      },
      "source": [
        "# Estructura secuencial"
      ]
    },
    {
      "cell_type": "markdown",
      "metadata": {
        "id": "_WQWJbJzVzy0"
      },
      "source": [
        "Calcular el promedio de las notas que obtiene un alumno al rendir los dos parciales"
      ]
    },
    {
      "cell_type": "code",
      "metadata": {
        "id": "DWESmTpSVY-d",
        "colab": {
          "base_uri": "https://localhost:8080/"
        },
        "outputId": "92db8016-c2de-450a-dbd2-623b43be1494"
      },
      "source": [
        "nota_1= float(input(\"Ingrese su nota: \"))\n",
        "nota_2= float(input(\"Ingrese su segunda nota: \"))\n",
        "promedio= (nota_1 + nota_2)/2 \n",
        "print(f\"El promedio es: {promedio}\")"
      ],
      "execution_count": null,
      "outputs": [
        {
          "output_type": "stream",
          "text": [
            "Ingrese su nota: 2.3\n",
            "Ingrese su segunda nota: 4.5\n",
            "El promedio es: 3.4\n"
          ],
          "name": "stdout"
        }
      ]
    },
    {
      "cell_type": "markdown",
      "metadata": {
        "id": "qhIB5maoYFX9"
      },
      "source": [
        "Tres personas invierten dinero para fundar una empresa (no necesariamente en partes iguales).\n",
        "Calcular qué porcentaje invirtió cada una."
      ]
    },
    {
      "cell_type": "code",
      "metadata": {
        "id": "ZC1MIOozYF5W",
        "colab": {
          "base_uri": "https://localhost:8080/"
        },
        "outputId": "22bbaedc-9c43-4f5e-ef46-16499470fab8"
      },
      "source": [
        "inversion_1= float(input(\"Ingrese la cantidad de dinero invertida: $\"))\n",
        "inversion_2= float(input(\"Ingrese la cantidad de dinero invertida: $\"))\n",
        "inversion_3= float(input(\"Ingrese la cantidad de dinero invertida: $\"))\n",
        "total= inversion_1 + inversion_2 + inversion_3\n",
        "porcentaje_1= (inversion_1 * 100)/total \n",
        "porcentaje_2= (inversion_2 * 100)/total\n",
        "porcentaje_3= (inversion_3 * 100)/total\n",
        "print(f\"la inversión 1 representa el: {porcentaje_1}%\")\n",
        "print(f\"la inversión 2 representa el: {porcentaje_2}%\")\n",
        "print(f\"la inversión 3 representa el: {porcentaje_3}%\")"
      ],
      "execution_count": null,
      "outputs": [
        {
          "output_type": "stream",
          "text": [
            "Ingrese la cantidad de dinero invertida: $500\n",
            "Ingrese la cantidad de dinero invertida: $300\n",
            "Ingrese la cantidad de dinero invertida: $200\n",
            "la inversión 1 representa el: 50.0%\n",
            "la inversión 2 representa el: 30.0%\n",
            "la inversión 3 representa el: 20.0%\n"
          ],
          "name": "stdout"
        }
      ]
    },
    {
      "cell_type": "markdown",
      "metadata": {
        "id": "ylcXqCo_Zw8Y"
      },
      "source": [
        "Leer una medida en metros e imprimir esta medida expresada en centímetros, pulgadas, pies y yardas. Los factores de conversión son:\n",
        "\n",
        "1 pie = 12 pulgadas\n",
        "\n",
        "1 yarda = 3 pies\n",
        "\n",
        "1 pulgada = 2,54 cm.\n",
        "\n",
        "1 metro = 100 cm."
      ]
    },
    {
      "cell_type": "code",
      "metadata": {
        "colab": {
          "base_uri": "https://localhost:8080/"
        },
        "id": "m14okeOqZ2zO",
        "outputId": "d3768049-e531-4a5f-bca5-022a385f6d53"
      },
      "source": [
        "metros= float(input(\"Ingrese la cantidad de metros: \"))\n",
        "centimetros= round(metros * 100,2)\n",
        "pulgadas= round(centimetros/2.54,2)\n",
        "pies= round(pulgadas/12,2)\n",
        "yardas= round(pies/3,2)\n",
        "print(f\"{metros}m equivale a {centimetros}cm\")\n",
        "print(f\"{metros}m equivale a {pulgadas}in\")\n",
        "print(f\"{metros}m equivale a {pies}ft\")\n",
        "print(f\"{metros}m equivale a {yardas}yd\")"
      ],
      "execution_count": null,
      "outputs": [
        {
          "output_type": "stream",
          "text": [
            "Ingrese la cantidad de metros: 5.5\n",
            "5.5m equivale a 550.0cm\n",
            "5.5m equivale a 216.54in\n",
            "5.5m equivale a 18.04ft\n",
            "5.5m equivale a 6.01yd\n"
          ],
          "name": "stdout"
        }
      ]
    },
    {
      "cell_type": "markdown",
      "metadata": {
        "id": "QuY8ptmXYGkd"
      },
      "source": [
        "Una inmobiliaria paga a sus vendedores un salario base, más una comisión fija por cada venta realizada, más el 5% del valor de esas ventas. \n",
        "\n",
        "Realizar un programa que imprima el número del vendedor y el salario que le corresponde en un determinado mes. Se leen por teclado el número del vendedor, la cantidad de ventas que realizó y el valor total de las mismas."
      ]
    },
    {
      "cell_type": "code",
      "metadata": {
        "id": "zqDvnyD5YG_G",
        "colab": {
          "base_uri": "https://localhost:8080/"
        },
        "outputId": "aba78971-8048-42bb-9b37-393c3127a6bf"
      },
      "source": [
        "numero_vendedor= input(\"Ingrese número de vendedor: \")\n",
        "salario_base = float(input(\"Ingrese salario base: $\"))\n",
        "comision = float(input(\"Ingrese comision: $ \"))\n",
        "cantidad_ventas = int(input(\"Ingrese cantidad de ventas realizadas en el mes: \"))\n",
        "total_ventas = float(input(\"Ingrese el total de ventas: $ \"))\n",
        "salario = salario_base + comision * cantidad_ventas + total_ventas * 5 / 100\n",
        "print(f\"El salario que le corresponde al vendedor {numero_vendedor} es ${salario} \")"
      ],
      "execution_count": null,
      "outputs": [
        {
          "output_type": "stream",
          "text": [
            "Ingrese número de vendedor: 12\n",
            "Ingrese salario base: $4000\n",
            "Ingrese comision: $ 5000\n",
            "Ingrese cantidad de ventas realizadas en el mes: 20\n",
            "Ingrese el total de ventas: $ 60\n",
            "El salario que le corresponde al vendedor 12 es $104003.0 \n"
          ],
          "name": "stdout"
        }
      ]
    },
    {
      "cell_type": "markdown",
      "metadata": {
        "id": "inW_hAQzZ1KW"
      },
      "source": [
        "Revisión de operadores matemáticos en python:\n",
        "\n",
        "\"+\" - suma si son números, si es texto lo concatena\n",
        "\n",
        "\"-\" - resta si son números\n",
        "\n",
        "\"/\" - divide números\n",
        "\n",
        "\"*\" - multiplica\n",
        "\n",
        "'**' - exponencia, eleva números\n",
        "\n",
        "\"//\" - da el cociente de la división entera, no nros con coma\n",
        "\n",
        "\"%\" - da el resto de la división entera, no nros con coma\n"
      ]
    },
    {
      "cell_type": "markdown",
      "metadata": {
        "id": "KicMJIjDYpnb"
      },
      "source": [
        "Un banco necesita para sus cajeros de la sucursal un programa que lea una cantidad de dinero que desea retirar el cliente e imprima a cuántos billetes equivale, considerando que existen billetes de 1000, 500, 200, 100, 50, 20 y el resto en monedas de 10, 5, 2 y 1.\n",
        "\n",
        "Desarrollar dicho programa de tal forma que se minimice la cantidad de billetes entregados por el cajero."
      ]
    },
    {
      "cell_type": "code",
      "metadata": {
        "id": "6imn-NvjYp4y",
        "colab": {
          "base_uri": "https://localhost:8080/"
        },
        "outputId": "c1869217-b31a-4ffe-a943-64d3f9847cf1"
      },
      "source": [
        "cantidad_dinero = int(input(\"Ingrese la cantidad de dinero que desea retirar: $\"))\n",
        "billetes_1000 = cantidad_dinero // 1000\n",
        "cantidad_dinero = cantidad_dinero % 1000\n",
        "\n",
        "billetes_500 = cantidad_dinero // 500\n",
        "cantidad_dinero = cantidad_dinero % 500\n",
        "\n",
        "billetes_200 = cantidad_dinero // 200\n",
        "cantidad_dinero = cantidad_dinero % 200\n",
        "\n",
        "billetes_100 = cantidad_dinero // 100\n",
        "cantidad_dinero = cantidad_dinero % 100\n",
        "\n",
        "billetes_50 = cantidad_dinero // 50\n",
        "cantidad_dinero = cantidad_dinero % 50\n",
        "\n",
        "billetes_20 = cantidad_dinero // 20\n",
        "cantidad_dinero = cantidad_dinero % 20\n",
        "\n",
        "billetes_10 = cantidad_dinero // 10\n",
        "cantidad_dinero = cantidad_dinero % 10\n",
        "\n",
        "billetes_5 = cantidad_dinero // 5\n",
        "cantidad_dinero = cantidad_dinero % 5\n",
        "\n",
        "billetes_2 = cantidad_dinero // 2\n",
        "cantidad_dinero = cantidad_dinero % 2\n",
        "\n",
        "billetes_1 = cantidad_dinero // 1\n",
        "cantidad_dinero = cantidad_dinero % 1\n",
        "print(f\"El cajero debe devolver {billetes_1000} billetes de $1000, {billetes_500} billetes de $500, {billetes_200} billetes de $200, {billetes_100} billetes de $100, {billetes_50} billetes de $50, {billetes_20} billetes de $20, {billetes_10} monedas de $10, {billetes_5} monedas de $5, {billetes_2} monedas de $2, {billetes_1} monedas de $1\")\n",
        "\n"
      ],
      "execution_count": null,
      "outputs": [
        {
          "output_type": "stream",
          "text": [
            "Ingrese la cantidad de dinero que desea retirar: $5555\n",
            "El cajero debe devolver 5 billetes de $1000, 1 billetes de $500, 0 billetes de $200, 0 billetes de $100, 1 billetes de $50, 0 billetes de $20, 0 monedas de $10, 1 monedas de $5, 0 monedas de $2, 0 monedas de $1\n"
          ],
          "name": "stdout"
        }
      ]
    },
    {
      "cell_type": "markdown",
      "metadata": {
        "id": "-a65o7vOYrWL"
      },
      "source": [
        "\n",
        "\n",
        "---\n",
        "\n"
      ]
    },
    {
      "cell_type": "markdown",
      "metadata": {
        "id": "56lVaBD3ZkEV"
      },
      "source": [
        "# Estructura condicional"
      ]
    },
    {
      "cell_type": "markdown",
      "metadata": {
        "id": "W8ACtQYcZrxZ"
      },
      "source": [
        "Ingresar dos números enteros e indicar si son iguales o distintos."
      ]
    },
    {
      "cell_type": "code",
      "metadata": {
        "id": "eaFPbezqYr7K",
        "colab": {
          "base_uri": "https://localhost:8080/"
        },
        "outputId": "57ea9667-71fc-4f2a-e46d-6bdc7fd79389"
      },
      "source": [
        "numero_1 = int(input(\"Ingrese el primer número: \"))\n",
        "numero_2 = int(input(\"Ingrese el segundo número: \"))\n",
        "if(numero_1 == numero_2):\n",
        "  print(\"Los números son iguales.\")\n",
        "else:\n",
        "  print(\"Los números son distintos.\")\n"
      ],
      "execution_count": null,
      "outputs": [
        {
          "output_type": "stream",
          "text": [
            "Ingrese el primer número: 12\n",
            "Ingrese el segundo número: 18\n",
            "Los números son distintos.\n"
          ],
          "name": "stdout"
        }
      ]
    },
    {
      "cell_type": "markdown",
      "metadata": {
        "id": "e_9AX6K0Ztzp"
      },
      "source": [
        "Leer un número entero e imprimir un mensaje indicando si es par o impar"
      ]
    },
    {
      "cell_type": "code",
      "metadata": {
        "id": "oWeWERcEaQfO",
        "colab": {
          "base_uri": "https://localhost:8080/"
        },
        "outputId": "80c5906d-3403-4538-cd6f-d82e0eddde2e"
      },
      "source": [
        "numero_1 = int(input(\"Ingrese un número entero: \"))\n",
        "if (numero_1 % 2 == 0):\n",
        "  print(\"El número es par.\")\n",
        "else:\n",
        "  print(\"El nro es impar.\")\n"
      ],
      "execution_count": null,
      "outputs": [
        {
          "output_type": "stream",
          "text": [
            "Ingrese un número entero: 33\n",
            "El nro es impar.\n"
          ],
          "name": "stdout"
        }
      ]
    },
    {
      "cell_type": "markdown",
      "metadata": {
        "id": "mKd_x_Miaf0r"
      },
      "source": [
        "Crear un programa que pida un número de mes (ejemplo 4) y escriba el nombre del mes en letras (\"abril\"). Verificar que el mes sea válido e informar en caso que no lo sea.\n"
      ]
    },
    {
      "cell_type": "code",
      "metadata": {
        "id": "tGHaIHh5ahta",
        "colab": {
          "base_uri": "https://localhost:8080/"
        },
        "outputId": "11a9c1f1-7a0a-44c4-c0a1-826e6218ad5e"
      },
      "source": [
        "numero_mes = int(input(\"Ingrese el número de mes: \"))\n",
        "if (numero_mes > 12 or numero_mes < 1):\n",
        "  print(\"El nro es inválido.\")\n",
        "else: \n",
        "  meses = {1: \"enero\",\n",
        "           2: \"febrero\",\n",
        "           3: \"marzo\",\n",
        "           4: \"abril\",\n",
        "           5: \"mayo\",\n",
        "           6: \"junio\",\n",
        "           7: \"julio\",\n",
        "           8: \"agosto\",\n",
        "           9: \"septiembre\",\n",
        "           10: \"octubre\",\n",
        "           11: \"noviembre\",\n",
        "           12: \"diciembre\"}\n",
        "  print(meses[numero_mes])"
      ],
      "execution_count": null,
      "outputs": [
        {
          "output_type": "stream",
          "text": [
            "Ingrese el número de mes: 12\n",
            "diciembre\n"
          ],
          "name": "stdout"
        }
      ]
    },
    {
      "cell_type": "markdown",
      "metadata": {
        "id": "t5XeEJREYsPC"
      },
      "source": [
        "Una remisería requiere un sistema que calcule el precio de un viaje a partir de la cantidad de\n",
        "km que desea recorrer el usuario. Tiene la siguiente tarifa:\n",
        "* Viaje mínimo 50 pesos\n",
        "* Si recorre entre 0 y 10km: 20 pesos/km\n",
        "* Si recorre 10km o más: 15 pesos/km"
      ]
    },
    {
      "cell_type": "code",
      "metadata": {
        "id": "vuWj3JTZYsdi",
        "colab": {
          "base_uri": "https://localhost:8080/"
        },
        "outputId": "02b140d3-6129-4cf6-84a6-c98f0b0068a7"
      },
      "source": [
        "km_totales = float(input(\"Ingrese cuantos km va a recorrer: \"))\n",
        "if (10 > km_totales):\n",
        "  monto = 20 * km_totales\n",
        "else:\n",
        "  monto = 15 * km_totales\n",
        "if (monto < 50):\n",
        "  monto = 50\n",
        "print(f\"El monto del viaje es: ${monto}\")\n"
      ],
      "execution_count": null,
      "outputs": [
        {
          "output_type": "stream",
          "text": [
            "Ingrese cuantos km va a recorrer: 5.4\n",
            "El monto del viaje es: $108.0\n"
          ],
          "name": "stdout"
        }
      ]
    },
    {
      "cell_type": "markdown",
      "metadata": {
        "id": "KBLyMrX5aj0q"
      },
      "source": [
        "\n",
        "\n",
        "---\n",
        "\n"
      ]
    },
    {
      "cell_type": "markdown",
      "metadata": {
        "id": "FcL6QwEQaksK"
      },
      "source": [
        "# Estructura iterativa"
      ]
    },
    {
      "cell_type": "markdown",
      "metadata": {
        "id": "vG88lQGFaaOy"
      },
      "source": [
        "Escribir un algoritmo que muestre los primeros 25 números naturales."
      ]
    },
    {
      "cell_type": "code",
      "metadata": {
        "id": "XVRlHh3iaswZ",
        "colab": {
          "base_uri": "https://localhost:8080/"
        },
        "outputId": "4d48bc79-05a8-4b3d-d50e-a6321c8f5e9a"
      },
      "source": [
        "for i in range(1,26):\n",
        "  print(i)"
      ],
      "execution_count": null,
      "outputs": [
        {
          "output_type": "stream",
          "text": [
            "1\n",
            "2\n",
            "3\n",
            "4\n",
            "5\n",
            "6\n",
            "7\n",
            "8\n",
            "9\n",
            "10\n",
            "11\n",
            "12\n",
            "13\n",
            "14\n",
            "15\n",
            "16\n",
            "17\n",
            "18\n",
            "19\n",
            "20\n",
            "21\n",
            "22\n",
            "23\n",
            "24\n",
            "25\n"
          ],
          "name": "stdout"
        }
      ]
    },
    {
      "cell_type": "markdown",
      "metadata": {
        "id": "d4V6BVp_arHX"
      },
      "source": [
        "Mostrar las tablas de multiplicar (entre 1 y 10) del número 4. ¿Cómo cambiaría el algoritmo para que el usuario pueda decidir la tabla de multiplicar a mostrar?"
      ]
    },
    {
      "cell_type": "code",
      "metadata": {
        "id": "-_T4jDaeatFZ",
        "colab": {
          "base_uri": "https://localhost:8080/"
        },
        "outputId": "e641340f-0b38-425b-8e08-9aed4c7a3ca1"
      },
      "source": [
        "numero = int(input(\"Ingrese un numero:\"))\n",
        "for i in range(1, 11):\n",
        "  print(f\"{i} x {numero} = {i*numero}\")\n"
      ],
      "execution_count": null,
      "outputs": [
        {
          "output_type": "stream",
          "text": [
            "Ingrese un numero:5\n",
            "1 x 5 = 5\n",
            "2 x 5 = 10\n",
            "3 x 5 = 15\n",
            "4 x 5 = 20\n",
            "5 x 5 = 25\n",
            "6 x 5 = 30\n",
            "7 x 5 = 35\n",
            "8 x 5 = 40\n",
            "9 x 5 = 45\n",
            "10 x 5 = 50\n"
          ],
          "name": "stdout"
        }
      ]
    },
    {
      "cell_type": "markdown",
      "metadata": {
        "id": "MP6oFQKHasGD"
      },
      "source": [
        "Leer 10 números enteros e imprimir el promedio, el mayor y el menor."
      ]
    },
    {
      "cell_type": "code",
      "metadata": {
        "id": "CJ7J5YLmatY4",
        "colab": {
          "base_uri": "https://localhost:8080/"
        },
        "outputId": "18b58fcb-37dc-4a18-8127-fb621c3d6eaf"
      },
      "source": [
        "#Inicializamos las variables\n",
        "suma = 0\n",
        "numero_entero = int(input(\"Ingrese un numero entero: \"))\n",
        "suma = numero_entero + suma \n",
        "numero_mayor = numero_entero\n",
        "numero_menor = numero_entero\n",
        "for i in range(1,10):\n",
        "  numero_entero = int(input(\"Ingrese un numero entero: \"))\n",
        "  suma = numero_entero + suma \n",
        "  if (numero_entero > numero_mayor):\n",
        "    numero_mayor = numero_entero\n",
        "  if (numero_entero < numero_menor):\n",
        "    numero_menor = numero_entero\n",
        "promedio = suma / 10\n",
        "print(f\"El promedio es {promedio} \")\n",
        "print(f\"El numero mayor es {numero_mayor}\")\n",
        "print(f\"El numero menor es {numero_menor}\")"
      ],
      "execution_count": null,
      "outputs": [
        {
          "output_type": "stream",
          "text": [
            "Ingrese un numero entero: 2\n",
            "Ingrese un numero entero: 3\n",
            "Ingrese un numero entero: 4\n",
            "Ingrese un numero entero: 5\n",
            "Ingrese un numero entero: 6\n",
            "Ingrese un numero entero: 7\n",
            "Ingrese un numero entero: 8\n",
            "Ingrese un numero entero: 9\n",
            "Ingrese un numero entero: 10\n",
            "Ingrese un numero entero: 11\n",
            "El promedio es 6.5 \n",
            "El numero mayor es 11\n",
            "El numero menor es 2\n"
          ],
          "name": "stdout"
        }
      ]
    },
    {
      "cell_type": "markdown",
      "metadata": {
        "id": "SzbbOx1FasJF"
      },
      "source": [
        "Escribir un algoritmo que lea números enteros hasta que se ingrese un 0, y muestre el máximo, el mínimo (sin considerar el 0) y la media (promedio) de todos ellos. \n",
        "\n",
        "Piense cómo debe inicializar las variables.\n"
      ]
    },
    {
      "cell_type": "code",
      "metadata": {
        "id": "ejkmbZXZauIf",
        "colab": {
          "base_uri": "https://localhost:8080/"
        },
        "outputId": "b046e1e9-8d66-48fd-c391-a8dde5481baf"
      },
      "source": [
        "suma = 0\n",
        "contador = 0\n",
        "numero_entero = int(input(\"Ingrese un numero entero o 0 para finalizar: \"))\n",
        "contador = contador + 1\n",
        "suma = numero_entero + suma \n",
        "numero_mayor = numero_entero\n",
        "numero_menor = numero_entero\n",
        "while (numero_entero != 0):\n",
        "  numero_entero = int(input(\"Ingrese un numero entero o 0 para finalizar: \"))\n",
        "  if (numero_entero != 0):\n",
        "    suma = numero_entero + suma\n",
        "    contador = contador + 1\n",
        "    if (numero_entero > numero_mayor):\n",
        "      numero_mayor = numero_entero\n",
        "    if (numero_entero < numero_menor):\n",
        "      numero_menor = numero_entero\n",
        "\n",
        "promedio = suma / contador\n",
        "print(f\"El promedio es {promedio} \")\n",
        "print(f\"El numero mayor es {numero_mayor}\")\n",
        "print(f\"El numero menor es {numero_menor}\")\n",
        "  "
      ],
      "execution_count": null,
      "outputs": [
        {
          "output_type": "stream",
          "text": [
            "Ingrese un numero entero o 0 para finalizar: 7\n",
            "Ingrese un numero entero o 0 para finalizar: 7\n",
            "Ingrese un numero entero o 0 para finalizar: 6\n",
            "Ingrese un numero entero o 0 para finalizar: 2\n",
            "Ingrese un numero entero o 0 para finalizar: 0\n",
            "El promedio es 5.5 \n",
            "El numero mayor es 7\n",
            "El numero menor es 2\n"
          ],
          "name": "stdout"
        }
      ]
    },
    {
      "cell_type": "markdown",
      "metadata": {
        "id": "MPzikf0oasLz"
      },
      "source": [
        "Ingresar números, hasta que la suma de los números pares supere 100. \n",
        "\n",
        "Mostrar Cuántos números en total se ingresaron."
      ]
    },
    {
      "cell_type": "code",
      "metadata": {
        "id": "5HEaepQUaZxF",
        "colab": {
          "base_uri": "https://localhost:8080/"
        },
        "outputId": "0b412302-4a23-4053-c33c-cfc02c1a2983"
      },
      "source": [
        "suma = 0\n",
        "contador = 0\n",
        "while (suma <= 100):\n",
        "  numero = int(input(\"Ingrese un numero: \"))\n",
        "  contador = contador + 1\n",
        "  if (numero % 2 == 0):\n",
        "    suma = suma + numero\n",
        "print(f\"La cantidad de numeros que se ingresaron es : {contador}\")"
      ],
      "execution_count": null,
      "outputs": [
        {
          "output_type": "stream",
          "text": [
            "Ingrese un numero: 50\n",
            "Ingrese un numero: 12\n",
            "Ingrese un numero: 33\n",
            "Ingrese un numero: 70\n",
            "La cantidad de numeros que se ingresaron es : 4\n"
          ],
          "name": "stdout"
        }
      ]
    },
    {
      "cell_type": "markdown",
      "metadata": {
        "id": "lvi9KLXqbF4e"
      },
      "source": [
        "Un negocio desea saber el importe total recaudado al fin del día, desea contar con un programa que pueda ingresar el importe de cada venta realizada. Para indicar que finalizó el día se ingresa -1. \n",
        "\n",
        "¿Cuál fue el monto total vendido y cuántas ventas se realizaron? El importe de cada venta realizada debe ser un valor positivo."
      ]
    },
    {
      "cell_type": "code",
      "metadata": {
        "id": "g3FyWSDAbNHv",
        "colab": {
          "base_uri": "https://localhost:8080/"
        },
        "outputId": "49b80413-3237-4fd6-e93c-2046279417af"
      },
      "source": [
        "contador = 0\n",
        "suma = 0\n",
        "importe_venta = float(input(\"Ingrese el importe de la venta realizada: \"))\n",
        "while (importe_venta != -1):\n",
        "  contador = contador + 1\n",
        "  suma = importe_venta + suma\n",
        "  importe_venta = float(input(\"Ingrese el importe de la venta realizada: \"))\n",
        "print(f\"El monto total vendido es: ${suma}\")\n",
        "print(f\"La cantidad de ventas realizadas es: {contador}\")"
      ],
      "execution_count": null,
      "outputs": [
        {
          "output_type": "stream",
          "text": [
            "Ingrese el importe de la venta realizada: 5000\n",
            "Ingrese el importe de la venta realizada: 400\n",
            "Ingrese el importe de la venta realizada: 6\n",
            "Ingrese el importe de la venta realizada: -1\n",
            "El monto total vendido es: $5406.0\n",
            "La cantidad de ventas realizadas es: 3\n"
          ],
          "name": "stdout"
        }
      ]
    },
    {
      "cell_type": "markdown",
      "metadata": {
        "id": "FkMB4-D4bV-3"
      },
      "source": [
        "Cada cliente que va al banco Express, indica su número de documento y aguarda a ser atendido, cuando finaliza la atención del día se ingresa -1 para indicar que no hay más clientes para ser atendidos. \n",
        "\n",
        "El banco desea saber quién fue el primer cliente atendido y quién fue el último."
      ]
    },
    {
      "cell_type": "code",
      "metadata": {
        "id": "sx0ME7WhbVZ2",
        "colab": {
          "base_uri": "https://localhost:8080/"
        },
        "outputId": "24fad4e7-3fd4-4321-dc20-71465f12e99b"
      },
      "source": [
        "dni = int(input(\"Ingrese el numero de DNI: \"))\n",
        "primer_cliente = dni\n",
        "\n",
        "while (dni != -1):\n",
        "  ultimo_cliente = dni\n",
        "  dni = int(input(\"Ingrese el numero de DNI: \"))\n",
        "\n",
        "print(f'El primer cliente fue {primer_cliente} y el ultimo cliente fue {ultimo_cliente}')"
      ],
      "execution_count": 1,
      "outputs": [
        {
          "output_type": "stream",
          "text": [
            "Ingrese el numero de DNI: 35145777\n",
            "Ingrese el numero de DNI: 15478777\n",
            "Ingrese el numero de DNI: 11111111\n",
            "Ingrese el numero de DNI: -1\n",
            "El primer cliente fue 35145777 y el ultimo cliente fue 11111111\n"
          ],
          "name": "stdout"
        }
      ]
    }
  ]
}
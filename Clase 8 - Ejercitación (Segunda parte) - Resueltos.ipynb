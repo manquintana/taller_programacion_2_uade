{
  "nbformat": 4,
  "nbformat_minor": 0,
  "metadata": {
    "colab": {
      "name": "Copia de Clase 8 - Ejercitación (Segunda parte).ipynb",
      "provenance": [],
      "collapsed_sections": []
    },
    "kernelspec": {
      "name": "python3",
      "display_name": "Python 3"
    },
    "language_info": {
      "name": "python"
    }
  },
  "cells": [
    {
      "cell_type": "markdown",
      "metadata": {
        "id": "ALkpfQv7Vv_q"
      },
      "source": [
        "# Clase 8 - Ejercitación segunda parte (funciones y listas)\n",
        "\n",
        "---\n",
        "\n"
      ]
    },
    {
      "cell_type": "markdown",
      "metadata": {
        "id": "EVej8ndOYKq8"
      },
      "source": [
        "# Funciones"
      ]
    },
    {
      "cell_type": "markdown",
      "metadata": {
        "id": "sY1YCkm6GCwn"
      },
      "source": [
        "¿Qué son las funciones? ¿Para qué sirven?\n",
        "\n",
        "- Hacen las cosas más simples\n",
        "- Bloques de código que puedo llamar cuando los necesite\n",
        "- Pueden ya existir (built in function) o las puede crear el usuario (user defined functions)\n",
        "- Si una acción se repite muchas veces conviene escribir una función y no repetir código muchas veces\n",
        "- Permiten acomodar mi código, hacerlo más legible agrupando dentro de pequeños bloques de código tareas específicas"
      ]
    },
    {
      "cell_type": "markdown",
      "metadata": {
        "id": "_WQWJbJzVzy0"
      },
      "source": [
        "Diseñar una función que reciba dos números enteros como parámetros enteros A y B, y permita obtener A elevado a la B."
      ]
    },
    {
      "cell_type": "code",
      "metadata": {
        "id": "DWESmTpSVY-d",
        "colab": {
          "base_uri": "https://localhost:8080/"
        },
        "outputId": "5ac0bd35-fbbe-42a6-a6eb-65493ebb5ab5"
      },
      "source": [
        "def potencia(a, b):\n",
        "  return a**b\n",
        "\n",
        "a = int(input('Ingrese un numero entero: '))\n",
        "b = int(input('Ingrese un numero entero: '))\n",
        "print(f'{a} elevado a la {b} = {potencia(a,b)}')"
      ],
      "execution_count": 13,
      "outputs": [
        {
          "output_type": "stream",
          "text": [
            "Ingrese un numero entero: 2\n",
            "Ingrese un numero entero: 2\n",
            "2 elevado a la 2 = None\n"
          ],
          "name": "stdout"
        }
      ]
    },
    {
      "cell_type": "markdown",
      "metadata": {
        "id": "qhIB5maoYFX9"
      },
      "source": [
        "Diseñar una función para mostrar un título con numerales, la longitud de la columna de numerales y el texto del título se recibe como parámetro. \n",
        "\n",
        "Ejemplo: titulo(“Ejercicio 3”, 3) muestra:\n",
        "\n",
        "#\n",
        "\n",
        "#\n",
        "\n",
        "#\n",
        "\n",
        "Ejercicio 3\n",
        "\n",
        "#\n",
        "\n",
        "#\n",
        "\n",
        "#\n"
      ]
    },
    {
      "cell_type": "code",
      "metadata": {
        "id": "ZC1MIOozYF5W",
        "colab": {
          "base_uri": "https://localhost:8080/"
        },
        "outputId": "095074e5-81c2-4345-f385-0573fcc8f360"
      },
      "source": [
        "def titulo(texto, cantidad):\n",
        "  for i in range(cantidad):\n",
        "    print('#')\n",
        "  print(texto)\n",
        "  for i in range(cantidad):\n",
        "    print('#')\n",
        "\n",
        "texto = input('Ingrese el titulo: ')\n",
        "cantidad = int(input('Ingrese cantidad de #: '))\n",
        "titulo(texto, cantidad)\n",
        "\n"
      ],
      "execution_count": 16,
      "outputs": [
        {
          "output_type": "stream",
          "text": [
            "Ingrese el titulo: Titulo de prueba\n",
            "Ingrese cantidad de #: 5\n",
            "#\n",
            "#\n",
            "#\n",
            "#\n",
            "#\n",
            "Titulo de prueba\n",
            "#\n",
            "#\n",
            "#\n",
            "#\n",
            "#\n"
          ],
          "name": "stdout"
        }
      ]
    },
    {
      "cell_type": "markdown",
      "metadata": {
        "id": "-_AJDU1Zeupc"
      },
      "source": [
        "Una calculadora tiene cuatro operaciones básicas (a saber: sumar, restar,\n",
        "multiplicar, dividir). \n",
        "\n",
        "Desarrolle una función para realizar cada operación, que reciba como parámetros dos números ingresados por el usuario y devuelva el resultado de la operación.\n",
        "\n",
        "Desarrollar un programa principal con un menú que permita realizar una operación y posea una opción para Salir. \n",
        "\n",
        "Luego de cada operación realizada se debe volver a presentar el menú."
      ]
    },
    {
      "cell_type": "code",
      "metadata": {
        "id": "9p7aiqHbYGY2",
        "colab": {
          "base_uri": "https://localhost:8080/"
        },
        "outputId": "2367b3be-12e0-4f40-c27b-3d31652b1ad0"
      },
      "source": [
        "def sumar(num1, num2):\n",
        "  resultado = num1 + num2\n",
        "  return resultado\n",
        "\n",
        "def restar(num1, num2):\n",
        "  resultado = num1 - num2\n",
        "  return resultado\n",
        "\n",
        "def multiplicar(num1, num2):\n",
        "  resultado = num1 * num2\n",
        "  return resultado\n",
        "\n",
        "def dividir(num1, num2):\n",
        "  if (num2 != 0):\n",
        "    resultado = num1 / num2\n",
        "  else:\n",
        "    resultado = \"no se puede dividir por cero\"\n",
        "  return resultado\n",
        "\n",
        "\n",
        "opcion = 10\n",
        "while (opcion != 5):\n",
        "  num1 = float(input('Ingrese numero 1: '))\n",
        "  num2 = float(input('Ingrese numero 2: '))\n",
        "  print('####')\n",
        "  print('MENÚ')\n",
        "  print('####')\n",
        "  print('1. Sumar')\n",
        "  print('2. Restar')\n",
        "  print('3. Multiplicar')\n",
        "  print('4. Dividir')\n",
        "  print('5. Salir')\n",
        "  opcion = int(input('Ingrese la opcion deseada: '))\n",
        "  if (opcion == 1):\n",
        "    print(f'{num1} + {num2} = {sumar(num1, num2)}')\n",
        "  if (opcion == 2):\n",
        "    print(f'{num1} - {num2} = {restar(num1, num2)}')\n",
        "  if (opcion == 3):\n",
        "    print(f'{num1} * {num2} = {multiplicar(num1, num2)}')\n",
        "  if (opcion == 4):\n",
        "    print(f'{num1} / {num2} = {dividir(num1, num2)}')\n",
        "  if (opcion == 5):\n",
        "    print('Muchas gracias')\n",
        "    \n",
        "\n",
        "\n",
        "\n",
        "\n",
        "\n"
      ],
      "execution_count": 18,
      "outputs": [
        {
          "output_type": "stream",
          "text": [
            "Ingrese numero 1: 2\n",
            "Ingrese numero 2: 4\n",
            "####\n",
            "MENÚ\n",
            "####\n",
            "1. Sumar\n",
            "2. Restar\n",
            "3. Multiplicar\n",
            "4. Dividir\n",
            "5. Salir\n",
            "Ingrese la opcion deseada: 1\n",
            "2.0 + 4.0 = 6.0\n",
            "Ingrese numero 1: 2\n",
            "Ingrese numero 2: 3\n",
            "####\n",
            "MENÚ\n",
            "####\n",
            "1. Sumar\n",
            "2. Restar\n",
            "3. Multiplicar\n",
            "4. Dividir\n",
            "5. Salir\n",
            "Ingrese la opcion deseada: 4\n",
            "2.0 / 3.0 = 0.6666666666666666\n",
            "Ingrese numero 1: 4\n",
            "Ingrese numero 2: 6\n",
            "####\n",
            "MENÚ\n",
            "####\n",
            "1. Sumar\n",
            "2. Restar\n",
            "3. Multiplicar\n",
            "4. Dividir\n",
            "5. Salir\n",
            "Ingrese la opcion deseada: 3\n",
            "4.0 * 6.0 = 24.0\n",
            "Ingrese numero 1: 8\n",
            "Ingrese numero 2: 9\n",
            "####\n",
            "MENÚ\n",
            "####\n",
            "1. Sumar\n",
            "2. Restar\n",
            "3. Multiplicar\n",
            "4. Dividir\n",
            "5. Salir\n",
            "Ingrese la opcion deseada: 5\n"
          ],
          "name": "stdout"
        }
      ]
    },
    {
      "cell_type": "markdown",
      "metadata": {
        "id": "UvVmI3iffrn2"
      },
      "source": [
        "Escriba una funcion que devuelva un numero entero al azar entre 1 y 20"
      ]
    },
    {
      "cell_type": "code",
      "metadata": {
        "id": "WCGtE8UafsY9",
        "colab": {
          "base_uri": "https://localhost:8080/"
        },
        "outputId": "8362c119-4e6c-400a-cf95-a616311958de"
      },
      "source": [
        "#from random import random\n",
        "#print(random()) # entre 0.0001 y 0.9999\n",
        "#print(random()*10) # entre 0.0001 y 9.9999\n",
        "#print(random()*10 + 1) # entre 1.0001 y 10.9999\n",
        "#print(int(random() * 20 + 1)) # entre 1 y 20\n",
        "\n",
        "def azar():\n",
        "  from random import random\n",
        "  return int(random() * 20 + 1)\n",
        "\n",
        "print(azar())"
      ],
      "execution_count": 98,
      "outputs": [
        {
          "output_type": "stream",
          "text": [
            "6\n"
          ],
          "name": "stdout"
        }
      ]
    },
    {
      "cell_type": "markdown",
      "metadata": {
        "id": "340imTKugs9d"
      },
      "source": [
        "\n",
        "\n",
        "---\n",
        "\n",
        "# Listas\n"
      ]
    },
    {
      "cell_type": "markdown",
      "metadata": {
        "id": "DgxkpNJagLvM"
      },
      "source": [
        "Escribir una función para crear una lista con N números al azar en un rango de valores que se recibe por parámetro. \n",
        "\n",
        "La función devuelve la lista cargada (o vacía si el rango indicado no es válido).\n"
      ]
    },
    {
      "cell_type": "code",
      "metadata": {
        "id": "cxEYr-1vgO0k"
      },
      "source": [
        ""
      ],
      "execution_count": null,
      "outputs": []
    },
    {
      "cell_type": "markdown",
      "metadata": {
        "id": "xdbuyqk3gkGV"
      },
      "source": [
        "Desarrollar un algoritmo que permita al usuario ingresar 5 números cualesquiera a la lista A y otros 5 números a la lista B. \n",
        "\n",
        "Crear y mostrar una lista C, donde cada posición es el resultado de la suma del número en la misma posición en la lista A con el número en la misma posición en la lista B. \n",
        "\n",
        "Ejemplo: Se crea A = [1, 2, 3, 4, 5] y B = [4, 7, 1, 3, 6] → C = [5, 9, 4, 7, 11]"
      ]
    },
    {
      "cell_type": "code",
      "metadata": {
        "id": "W5GwmwrEgnzN"
      },
      "source": [
        ""
      ],
      "execution_count": null,
      "outputs": []
    },
    {
      "cell_type": "markdown",
      "metadata": {
        "id": "dctoObBZhAXF"
      },
      "source": [
        "Escribir una función para devolver la posición que ocupa un valor pasado como parámetro, utilizando **búsqueda secuencial** en una lista desordenada. La función debe devolver -1 si el elemento no se encuentra en la lista.\n"
      ]
    },
    {
      "cell_type": "code",
      "metadata": {
        "id": "RXwNc8d0hEM0"
      },
      "source": [
        ""
      ],
      "execution_count": null,
      "outputs": []
    },
    {
      "cell_type": "markdown",
      "metadata": {
        "id": "OagifkfYhEjW"
      },
      "source": [
        "Crear una lista con numeros enteros y ordenarla en forma ascendente utilizando el método **Bubble sort**."
      ]
    },
    {
      "cell_type": "code",
      "metadata": {
        "id": "F0vANhb9hOiw"
      },
      "source": [
        ""
      ],
      "execution_count": null,
      "outputs": []
    },
    {
      "cell_type": "markdown",
      "metadata": {
        "id": "Mx9YMcN0sa1b"
      },
      "source": [
        "Dada la siguiente lista, escriba una función que la reciba como parámetro y devuelva el **menor** y el **mayor** valor de la misma.\n",
        "\n",
        "¿Es necesario ordenarla?"
      ]
    },
    {
      "cell_type": "code",
      "metadata": {
        "id": "vBxJ2XnZsiU-"
      },
      "source": [
        "lista = [4, 3, 10, 12, 2, 15, 1, 7]"
      ],
      "execution_count": null,
      "outputs": []
    },
    {
      "cell_type": "markdown",
      "metadata": {
        "id": "-a65o7vOYrWL"
      },
      "source": [
        "\n",
        "\n",
        "---\n",
        "\n"
      ]
    }
  ]
}
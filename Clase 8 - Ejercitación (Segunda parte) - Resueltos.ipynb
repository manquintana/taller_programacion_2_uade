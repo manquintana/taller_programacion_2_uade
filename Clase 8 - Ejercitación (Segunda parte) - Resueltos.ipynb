{
  "nbformat": 4,
  "nbformat_minor": 0,
  "metadata": {
    "colab": {
      "name": "Clase 8 - Ejercitación (Segunda parte) - Resueltos.ipynb",
      "provenance": [],
      "collapsed_sections": []
    },
    "kernelspec": {
      "name": "python3",
      "display_name": "Python 3"
    },
    "language_info": {
      "name": "python"
    }
  },
  "cells": [
    {
      "cell_type": "markdown",
      "metadata": {
        "id": "ALkpfQv7Vv_q"
      },
      "source": [
        "# Clase 8 - Ejercitación segunda parte (funciones y listas)\n",
        "\n",
        "---\n",
        "\n"
      ]
    },
    {
      "cell_type": "markdown",
      "metadata": {
        "id": "EVej8ndOYKq8"
      },
      "source": [
        "# Funciones"
      ]
    },
    {
      "cell_type": "markdown",
      "metadata": {
        "id": "sY1YCkm6GCwn"
      },
      "source": [
        "¿Qué son las funciones? ¿Para qué sirven?\n",
        "\n",
        "- Hacen las cosas más simples\n",
        "- Bloques de código que puedo llamar cuando los necesite\n",
        "- Pueden ya existir (built in function) o las puede crear el usuario (user defined functions)\n",
        "- Si una acción se repite muchas veces conviene escribir una función y no repetir código muchas veces\n",
        "- Permiten acomodar mi código, hacerlo más legible agrupando dentro de pequeños bloques de código tareas específicas"
      ]
    },
    {
      "cell_type": "markdown",
      "metadata": {
        "id": "_WQWJbJzVzy0"
      },
      "source": [
        "Diseñar una función que reciba dos números enteros como parámetros enteros A y B, y permita obtener A elevado a la B."
      ]
    },
    {
      "cell_type": "code",
      "metadata": {
        "id": "DWESmTpSVY-d",
        "colab": {
          "base_uri": "https://localhost:8080/"
        },
        "outputId": "5ac0bd35-fbbe-42a6-a6eb-65493ebb5ab5"
      },
      "source": [
        "def potencia(a, b):\n",
        "  return a**b\n",
        "\n",
        "a = int(input('Ingrese un numero entero: '))\n",
        "b = int(input('Ingrese un numero entero: '))\n",
        "print(f'{a} elevado a la {b} = {potencia(a,b)}')"
      ],
      "execution_count": null,
      "outputs": [
        {
          "output_type": "stream",
          "text": [
            "Ingrese un numero entero: 2\n",
            "Ingrese un numero entero: 2\n",
            "2 elevado a la 2 = None\n"
          ],
          "name": "stdout"
        }
      ]
    },
    {
      "cell_type": "markdown",
      "metadata": {
        "id": "qhIB5maoYFX9"
      },
      "source": [
        "Diseñar una función para mostrar un título con numerales, la longitud de la columna de numerales y el texto del título se recibe como parámetro. \n",
        "\n",
        "Ejemplo: titulo(“Ejercicio 3”, 3) muestra:\n",
        "\n",
        "#\n",
        "\n",
        "#\n",
        "\n",
        "#\n",
        "\n",
        "Ejercicio 3\n",
        "\n",
        "#\n",
        "\n",
        "#\n",
        "\n",
        "#\n"
      ]
    },
    {
      "cell_type": "code",
      "metadata": {
        "id": "ZC1MIOozYF5W",
        "colab": {
          "base_uri": "https://localhost:8080/"
        },
        "outputId": "095074e5-81c2-4345-f385-0573fcc8f360"
      },
      "source": [
        "def titulo(texto, cantidad):\n",
        "  for i in range(cantidad):\n",
        "    print('#')\n",
        "  print(texto)\n",
        "  for i in range(cantidad):\n",
        "    print('#')\n",
        "\n",
        "texto = input('Ingrese el titulo: ')\n",
        "cantidad = int(input('Ingrese cantidad de #: '))\n",
        "titulo(texto, cantidad)\n",
        "\n"
      ],
      "execution_count": null,
      "outputs": [
        {
          "output_type": "stream",
          "text": [
            "Ingrese el titulo: Titulo de prueba\n",
            "Ingrese cantidad de #: 5\n",
            "#\n",
            "#\n",
            "#\n",
            "#\n",
            "#\n",
            "Titulo de prueba\n",
            "#\n",
            "#\n",
            "#\n",
            "#\n",
            "#\n"
          ],
          "name": "stdout"
        }
      ]
    },
    {
      "cell_type": "markdown",
      "metadata": {
        "id": "-_AJDU1Zeupc"
      },
      "source": [
        "Una calculadora tiene cuatro operaciones básicas (a saber: sumar, restar,\n",
        "multiplicar, dividir). \n",
        "\n",
        "Desarrolle una función para realizar cada operación, que reciba como parámetros dos números ingresados por el usuario y devuelva el resultado de la operación.\n",
        "\n",
        "Desarrollar un programa principal con un menú que permita realizar una operación y posea una opción para Salir. \n",
        "\n",
        "Luego de cada operación realizada se debe volver a presentar el menú."
      ]
    },
    {
      "cell_type": "code",
      "metadata": {
        "id": "9p7aiqHbYGY2",
        "colab": {
          "base_uri": "https://localhost:8080/"
        },
        "outputId": "2367b3be-12e0-4f40-c27b-3d31652b1ad0"
      },
      "source": [
        "def sumar(num1, num2):\n",
        "  resultado = num1 + num2\n",
        "  return resultado\n",
        "\n",
        "def restar(num1, num2):\n",
        "  resultado = num1 - num2\n",
        "  return resultado\n",
        "\n",
        "def multiplicar(num1, num2):\n",
        "  resultado = num1 * num2\n",
        "  return resultado\n",
        "\n",
        "def dividir(num1, num2):\n",
        "  if (num2 != 0):\n",
        "    resultado = num1 / num2\n",
        "  else:\n",
        "    resultado = \"no se puede dividir por cero\"\n",
        "  return resultado\n",
        "\n",
        "\n",
        "opcion = 10\n",
        "while (opcion != 5):\n",
        "  num1 = float(input('Ingrese numero 1: '))\n",
        "  num2 = float(input('Ingrese numero 2: '))\n",
        "  print('####')\n",
        "  print('MENÚ')\n",
        "  print('####')\n",
        "  print('1. Sumar')\n",
        "  print('2. Restar')\n",
        "  print('3. Multiplicar')\n",
        "  print('4. Dividir')\n",
        "  print('5. Salir')\n",
        "  opcion = int(input('Ingrese la opcion deseada: '))\n",
        "  if (opcion == 1):\n",
        "    print(f'{num1} + {num2} = {sumar(num1, num2)}')\n",
        "  if (opcion == 2):\n",
        "    print(f'{num1} - {num2} = {restar(num1, num2)}')\n",
        "  if (opcion == 3):\n",
        "    print(f'{num1} * {num2} = {multiplicar(num1, num2)}')\n",
        "  if (opcion == 4):\n",
        "    print(f'{num1} / {num2} = {dividir(num1, num2)}')\n",
        "  if (opcion == 5):\n",
        "    print('Muchas gracias')\n",
        "    \n",
        "\n",
        "\n",
        "\n",
        "\n",
        "\n"
      ],
      "execution_count": null,
      "outputs": [
        {
          "output_type": "stream",
          "text": [
            "Ingrese numero 1: 2\n",
            "Ingrese numero 2: 4\n",
            "####\n",
            "MENÚ\n",
            "####\n",
            "1. Sumar\n",
            "2. Restar\n",
            "3. Multiplicar\n",
            "4. Dividir\n",
            "5. Salir\n",
            "Ingrese la opcion deseada: 1\n",
            "2.0 + 4.0 = 6.0\n",
            "Ingrese numero 1: 2\n",
            "Ingrese numero 2: 3\n",
            "####\n",
            "MENÚ\n",
            "####\n",
            "1. Sumar\n",
            "2. Restar\n",
            "3. Multiplicar\n",
            "4. Dividir\n",
            "5. Salir\n",
            "Ingrese la opcion deseada: 4\n",
            "2.0 / 3.0 = 0.6666666666666666\n",
            "Ingrese numero 1: 4\n",
            "Ingrese numero 2: 6\n",
            "####\n",
            "MENÚ\n",
            "####\n",
            "1. Sumar\n",
            "2. Restar\n",
            "3. Multiplicar\n",
            "4. Dividir\n",
            "5. Salir\n",
            "Ingrese la opcion deseada: 3\n",
            "4.0 * 6.0 = 24.0\n",
            "Ingrese numero 1: 8\n",
            "Ingrese numero 2: 9\n",
            "####\n",
            "MENÚ\n",
            "####\n",
            "1. Sumar\n",
            "2. Restar\n",
            "3. Multiplicar\n",
            "4. Dividir\n",
            "5. Salir\n",
            "Ingrese la opcion deseada: 5\n"
          ],
          "name": "stdout"
        }
      ]
    },
    {
      "cell_type": "markdown",
      "metadata": {
        "id": "UvVmI3iffrn2"
      },
      "source": [
        "Escriba una funcion que devuelva un numero entero al azar entre 1 y 20"
      ]
    },
    {
      "cell_type": "code",
      "metadata": {
        "id": "WCGtE8UafsY9",
        "colab": {
          "base_uri": "https://localhost:8080/"
        },
        "outputId": "74576a19-34c0-4d5a-d32a-eda2b399738c"
      },
      "source": [
        "#from random import random\n",
        "#print(random()) # entre 0.0001 y 0.9999\n",
        "#print(random()*10) # entre 0.0001 y 9.9999\n",
        "#print(random()*10 + 1) # entre 1.0001 y 10.9999\n",
        "#print(int(random() * 20 + 1)) # entre 1 y 20\n",
        "\n",
        "def azar():\n",
        "  from random import random\n",
        "  numero = 1 + int(random() * (20 - 1))\n",
        "  return numero \n",
        "\n",
        "print(azar())"
      ],
      "execution_count": 12,
      "outputs": [
        {
          "output_type": "stream",
          "text": [
            "18\n"
          ],
          "name": "stdout"
        }
      ]
    },
    {
      "cell_type": "markdown",
      "metadata": {
        "id": "340imTKugs9d"
      },
      "source": [
        "\n",
        "\n",
        "---\n",
        "\n",
        "# Listas\n"
      ]
    },
    {
      "cell_type": "markdown",
      "metadata": {
        "id": "DgxkpNJagLvM"
      },
      "source": [
        "Escribir una función para crear una lista con N números al azar en un rango de valores que se recibe por parámetro. \n",
        "\n",
        "La función devuelve la lista cargada (o vacía si el rango indicado no es válido).\n"
      ]
    },
    {
      "cell_type": "code",
      "metadata": {
        "id": "cxEYr-1vgO0k",
        "colab": {
          "base_uri": "https://localhost:8080/"
        },
        "outputId": "bda6754b-e91e-40bc-a5cc-0214154d5ac1"
      },
      "source": [
        "def azar(menor,mayor):\n",
        "  from random import random\n",
        "  numero = menor + int(random() * (mayor - menor))\n",
        "  return numero \n",
        "\n",
        "\n",
        "def generar_lista (n,menor,mayor):\n",
        "  lista = []\n",
        "  for i in range(n):\n",
        "    numero = azar(menor,mayor)\n",
        "    lista.append(numero)\n",
        "  return lista\n",
        "\n",
        "n = int(input(\"Ingrese la cantidad de números que quiere en la lista: \"))\n",
        "menor = int(input(\"Ingrese la cota menor: \"))\n",
        "mayor = int(input(\"Ingrese la cota mayor: \"))\n",
        "lista = generar_lista(n,menor,mayor)\n",
        "print(lista)"
      ],
      "execution_count": null,
      "outputs": [
        {
          "output_type": "stream",
          "text": [
            "Ingrese la cantidad de números que quiere en la lista: 5\n",
            "Ingrese la cota menor: 200\n",
            "Ingrese la cota mayor: 1000\n",
            "[662, 789, 447, 669, 230]\n"
          ],
          "name": "stdout"
        }
      ]
    },
    {
      "cell_type": "markdown",
      "metadata": {
        "id": "xdbuyqk3gkGV"
      },
      "source": [
        "Desarrollar un algoritmo que permita al usuario ingresar 5 números cualesquiera a la lista A y otros 5 números a la lista B. \n",
        "\n",
        "Crear y mostrar una lista C, donde cada posición es el resultado de la suma del número en la misma posición en la lista A con el número en la misma posición en la lista B. \n",
        "\n",
        "Ejemplo: Se crea A = [1, 2, 3, 4, 5] y B = [4, 7, 1, 3, 6] → C = [5, 9, 4, 7, 11]"
      ]
    },
    {
      "cell_type": "code",
      "metadata": {
        "id": "W5GwmwrEgnzN",
        "colab": {
          "base_uri": "https://localhost:8080/"
        },
        "outputId": "d98a6152-a188-4758-fe4b-d4dfb6392b6e"
      },
      "source": [
        "def generar_lista():\n",
        "  lista = []\n",
        "  print(\"Ingrese los números para la lista: \")\n",
        "  for i in range(5):\n",
        "    numero=int(input(\"Ingrese un número: \"))\n",
        "    lista.append(numero)\n",
        "  return lista\n",
        "\n",
        "lista_A = generar_lista()\n",
        "lista_B = generar_lista()\n",
        "\n",
        "\n",
        "lista_C = []\n",
        "for i in range(5):\n",
        "  numero = lista_A[i] + lista_B[i]\n",
        "  lista_C.append(numero)\n",
        "\n",
        "print(f\"La lista A es: {lista_A}\")\n",
        "print(f\"La lista B es: {lista_B}\")\n",
        "print(f\"La lista C es: {lista_C}\")"
      ],
      "execution_count": null,
      "outputs": [
        {
          "output_type": "stream",
          "text": [
            "Ingrese los números para la lista: \n",
            "Ingrese un número: 10\n",
            "Ingrese un número: 20\n",
            "Ingrese un número: 30\n",
            "Ingrese un número: 40\n",
            "Ingrese un número: 50\n",
            "Ingrese los números para la lista: \n",
            "Ingrese un número: 10\n",
            "Ingrese un número: 20\n",
            "Ingrese un número: 30\n",
            "Ingrese un número: 40\n",
            "Ingrese un número: 50\n",
            "La lista A es: [10, 20, 30, 40, 50]\n",
            "La lista B es: [10, 20, 30, 40, 50]\n",
            "La lista C es: [20, 40, 60, 80, 100]\n"
          ],
          "name": "stdout"
        }
      ]
    },
    {
      "cell_type": "markdown",
      "metadata": {
        "id": "dctoObBZhAXF"
      },
      "source": [
        "Escribir una función para devolver la posición que ocupa un valor pasado como parámetro, utilizando **búsqueda secuencial** en una lista desordenada. La función debe devolver -1 si el elemento no se encuentra en la lista.\n"
      ]
    },
    {
      "cell_type": "code",
      "metadata": {
        "id": "RXwNc8d0hEM0",
        "colab": {
          "base_uri": "https://localhost:8080/"
        },
        "outputId": "bca133dd-0b56-49b8-e957-c9c51d4bcc64"
      },
      "source": [
        "def buscar(numero,lista):\n",
        "  posicion = -1\n",
        "  for i in range(len(lista)):\n",
        "    if (lista[i] == numero):\n",
        "      posicion = i\n",
        "  return posicion\n",
        "\n",
        "numero = int(input(\"Elija un número: \"))\n",
        "\n",
        "lista = [4, 3, 10, 12, 2, 15, 1, 7]\n",
        "posicion = buscar(numero,lista)\n",
        "if (posicion==-1):\n",
        "  print(\"El número no está en la lista\")\n",
        "else:\n",
        "  print(f\"El número está en la posición {posicion + 1}\")\n"
      ],
      "execution_count": null,
      "outputs": [
        {
          "output_type": "stream",
          "text": [
            "Elija un número: 9\n",
            "El número no está en la lista\n"
          ],
          "name": "stdout"
        }
      ]
    },
    {
      "cell_type": "markdown",
      "metadata": {
        "id": "OagifkfYhEjW"
      },
      "source": [
        "Crear una lista con numeros enteros y ordenarla en forma ascendente utilizando el método **Bubble sort**."
      ]
    },
    {
      "cell_type": "code",
      "metadata": {
        "id": "F0vANhb9hOiw",
        "colab": {
          "base_uri": "https://localhost:8080/"
        },
        "outputId": "c78712f0-f0ba-4e9a-df33-89d94e6f07c9"
      },
      "source": [
        "lista = [4, 3, 10, 12, 2, 15, 1, 7]\n",
        "lista.sort()\n",
        "print(lista)"
      ],
      "execution_count": null,
      "outputs": [
        {
          "output_type": "stream",
          "text": [
            "[1, 2, 3, 4, 7, 10, 12, 15]\n"
          ],
          "name": "stdout"
        }
      ]
    },
    {
      "cell_type": "markdown",
      "metadata": {
        "id": "Mx9YMcN0sa1b"
      },
      "source": [
        "Dada la siguiente lista, escriba una función que la reciba como parámetro y devuelva el **menor** y el **mayor** valor de la misma.\n",
        "\n",
        "¿Es necesario ordenarla?"
      ]
    },
    {
      "cell_type": "code",
      "metadata": {
        "id": "vBxJ2XnZsiU-",
        "colab": {
          "base_uri": "https://localhost:8080/"
        },
        "outputId": "0d76ab62-7e89-4076-84fc-80e3a1f17c87"
      },
      "source": [
        "#Opción ordenando\n",
        "def buscar(lista):\n",
        "  lista.sort()\n",
        "  menor = lista[0]\n",
        "  mayor = lista[len(lista)-1]\n",
        "  return menor,mayor\n",
        "\n",
        "lista = [4, 3, 10, 12, 2, 15, 1, 7]\n",
        "menor,mayor = buscar(lista)\n",
        "\n",
        "print(f\"El menor es {menor} y el mayor es {mayor}\")\n",
        "\n"
      ],
      "execution_count": null,
      "outputs": [
        {
          "output_type": "stream",
          "text": [
            "El menor es 1 y el mayor es 15\n"
          ],
          "name": "stdout"
        }
      ]
    },
    {
      "cell_type": "code",
      "metadata": {
        "colab": {
          "base_uri": "https://localhost:8080/"
        },
        "id": "ExUTWOVyIAT9",
        "outputId": "9b5ac579-7063-4c96-9c1e-8980706abf80"
      },
      "source": [
        "#Opción sin ordenar previamente\n",
        "def buscar(lista):\n",
        "  menor = lista[0]\n",
        "  mayor = lista[0]\n",
        "  for i in range(1, len(lista)):\n",
        "    if (lista[i]>mayor):\n",
        "        mayor = lista[i]\n",
        "    if (lista[i]<menor):\n",
        "        menor = lista[i]\n",
        "  return menor,mayor\n",
        "\n",
        "lista = [4, 3, 10, 12, 2, 15, 1, 7]\n",
        "menor,mayor = buscar(lista)\n",
        "\n",
        "print(f\"El menor es {menor} y el mayor es {mayor}\")"
      ],
      "execution_count": 4,
      "outputs": [
        {
          "output_type": "stream",
          "text": [
            "El menor es 1 y el mayor es 15\n"
          ],
          "name": "stdout"
        }
      ]
    },
    {
      "cell_type": "markdown",
      "metadata": {
        "id": "-a65o7vOYrWL"
      },
      "source": [
        "\n",
        "\n",
        "---\n",
        "\n"
      ]
    }
  ]
}
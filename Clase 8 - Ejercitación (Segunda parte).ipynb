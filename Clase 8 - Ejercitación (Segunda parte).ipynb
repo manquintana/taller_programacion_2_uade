{
  "nbformat": 4,
  "nbformat_minor": 0,
  "metadata": {
    "colab": {
      "name": "Clase 8 - Ejercitación (Segunda parte).ipynb",
      "provenance": [],
      "collapsed_sections": []
    },
    "kernelspec": {
      "name": "python3",
      "display_name": "Python 3"
    },
    "language_info": {
      "name": "python"
    }
  },
  "cells": [
    {
      "cell_type": "markdown",
      "metadata": {
        "id": "ALkpfQv7Vv_q"
      },
      "source": [
        "# Clase 7 - Ejercitación segunda parte (funciones y listas)\n",
        "\n",
        "---\n",
        "\n"
      ]
    },
    {
      "cell_type": "markdown",
      "metadata": {
        "id": "EVej8ndOYKq8"
      },
      "source": [
        "# Funciones"
      ]
    },
    {
      "cell_type": "markdown",
      "metadata": {
        "id": "_WQWJbJzVzy0"
      },
      "source": [
        "Diseñar una función que reciba dos números enteros como parámetros enteros A y B, y permita obtener A elevado a la B."
      ]
    },
    {
      "cell_type": "code",
      "metadata": {
        "id": "DWESmTpSVY-d"
      },
      "source": [
        ""
      ],
      "execution_count": null,
      "outputs": []
    },
    {
      "cell_type": "markdown",
      "metadata": {
        "id": "qhIB5maoYFX9"
      },
      "source": [
        "Diseñar una función para mostrar un título filas de numerales, la longitud de la fila de numerales y el texto del título se recibe como parámetro. \n",
        "\n",
        "Ejemplo: titulo(“Ejercicio 3”, 15) muestra:\n",
        "\n",
        "###############\n",
        "\n",
        "Ejercicio 3\n",
        "\n",
        "###############"
      ]
    },
    {
      "cell_type": "code",
      "metadata": {
        "id": "ZC1MIOozYF5W"
      },
      "source": [
        ""
      ],
      "execution_count": null,
      "outputs": []
    },
    {
      "cell_type": "markdown",
      "metadata": {
        "id": "-_AJDU1Zeupc"
      },
      "source": [
        "Una calculadora tiene cuatro operaciones básicas (a saber: sumar, restar,\n",
        "multiplicar, dividir). \n",
        "\n",
        "Desarrolle una función para realizar cada operación, que reciba como parámetros dos números ingresados por el usuario y devuelva el resultado de la operación.\n",
        "\n",
        "Desarrollar un programa principal con un menú que permita realizar una operación y posea una opción para Salir. \n",
        "\n",
        "Luego de cada operación realizada se debe volver a presentar el menú."
      ]
    },
    {
      "cell_type": "code",
      "metadata": {
        "id": "9p7aiqHbYGY2"
      },
      "source": [
        ""
      ],
      "execution_count": null,
      "outputs": []
    },
    {
      "cell_type": "markdown",
      "metadata": {
        "id": "UvVmI3iffrn2"
      },
      "source": [
        "Escriba una funcion que devuelva un numero entero al azar entre 1 y 20"
      ]
    },
    {
      "cell_type": "code",
      "metadata": {
        "id": "WCGtE8UafsY9"
      },
      "source": [
        "from random import random\n",
        "print(random())"
      ],
      "execution_count": null,
      "outputs": []
    },
    {
      "cell_type": "markdown",
      "metadata": {
        "id": "340imTKugs9d"
      },
      "source": [
        "\n",
        "\n",
        "---\n",
        "\n",
        "# Listas\n"
      ]
    },
    {
      "cell_type": "markdown",
      "metadata": {
        "id": "DgxkpNJagLvM"
      },
      "source": [
        "Escribir una función para crear una lista con N números al azar en un rango de valores que se recibe por parámetro. \n",
        "\n",
        "La función devuelve la lista cargada (o vacía si el rango indicado no es válido).\n"
      ]
    },
    {
      "cell_type": "code",
      "metadata": {
        "id": "cxEYr-1vgO0k"
      },
      "source": [
        ""
      ],
      "execution_count": null,
      "outputs": []
    },
    {
      "cell_type": "markdown",
      "metadata": {
        "id": "xdbuyqk3gkGV"
      },
      "source": [
        "Desarrollar un algoritmo que permita al usuario ingresar 5 números cualesquiera a la lista A y otros 5 números a la lista B. \n",
        "\n",
        "Crear y mostrar una lista C, donde cada posición es el resultado de la suma del número en la misma posición en la lista A con el número en la misma posición en la lista B. \n",
        "\n",
        "Ejemplo: Se crea A = [1, 2, 3, 4, 5] y B = [4, 7, 1, 3, 6] → C = [5, 9, 4, 7, 11]"
      ]
    },
    {
      "cell_type": "code",
      "metadata": {
        "id": "W5GwmwrEgnzN"
      },
      "source": [
        ""
      ],
      "execution_count": null,
      "outputs": []
    },
    {
      "cell_type": "markdown",
      "metadata": {
        "id": "dctoObBZhAXF"
      },
      "source": [
        "Escribir una función para devolver la posición que ocupa un valor pasado como parámetro, utilizando **búsqueda secuencial** en una lista desordenada. La función debe devolver -1 si el elemento no se encuentra en la lista.\n"
      ]
    },
    {
      "cell_type": "code",
      "metadata": {
        "id": "RXwNc8d0hEM0"
      },
      "source": [
        ""
      ],
      "execution_count": null,
      "outputs": []
    },
    {
      "cell_type": "markdown",
      "metadata": {
        "id": "OagifkfYhEjW"
      },
      "source": [
        "Crear una lista con numeros enteros y ordenarla en forma ascendente utilizando el método **Bubble sort**."
      ]
    },
    {
      "cell_type": "code",
      "metadata": {
        "id": "F0vANhb9hOiw"
      },
      "source": [
        ""
      ],
      "execution_count": null,
      "outputs": []
    },
    {
      "cell_type": "markdown",
      "metadata": {
        "id": "Mx9YMcN0sa1b"
      },
      "source": [
        "Dada la siguiente lista, escriba una función que la reciba como parámetro y devuelva el **menor** y el **mayor** valor de la misma.\n",
        "\n",
        "¿Es necesario ordenarla?"
      ]
    },
    {
      "cell_type": "code",
      "metadata": {
        "id": "vBxJ2XnZsiU-"
      },
      "source": [
        "lista = [4, 3, 10, 12, 2, 15, 1, 7]"
      ],
      "execution_count": null,
      "outputs": []
    },
    {
      "cell_type": "markdown",
      "metadata": {
        "id": "-a65o7vOYrWL"
      },
      "source": [
        "\n",
        "\n",
        "---\n",
        "\n"
      ]
    }
  ]
}
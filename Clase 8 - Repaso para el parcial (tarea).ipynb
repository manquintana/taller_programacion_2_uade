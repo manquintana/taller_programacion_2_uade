{
  "nbformat": 4,
  "nbformat_minor": 0,
  "metadata": {
    "colab": {
      "name": "Clase 8 - Repaso para el parcial (tarea).ipynb",
      "provenance": [],
      "collapsed_sections": []
    },
    "kernelspec": {
      "name": "python3",
      "display_name": "Python 3"
    },
    "language_info": {
      "name": "python"
    }
  },
  "cells": [
    {
      "cell_type": "markdown",
      "metadata": {
        "id": "f7tOuaXEI_U9"
      },
      "source": [
        "Aquí agrego algunos ejercicios que tengan para poder repasar para el examen.\n",
        "\n",
        "**Sugerencia**: Volver a realizar los ejercicios que vimos en clases anteriores y cuyas resoluciones ya tienen para poder validar lo que están haciendo.\n"
      ]
    },
    {
      "cell_type": "markdown",
      "metadata": {
        "id": "ukdUJ_ygJKXY"
      },
      "source": [
        "Ej. 1) Se desea analizar cuántos autos circulan con patente que tiene numeración par y cuántos con numeración impar en un día. \n",
        "\n",
        "Le solicitan escribir un algoritmo que permita ingresar la terminación de la patente (entre 0 y 9) hasta ingresar -1 e informar cuántas se ingresaron con numeración par y cuántas con numeración impar"
      ]
    },
    {
      "cell_type": "code",
      "metadata": {
        "id": "1cXHd7u3I6G_"
      },
      "source": [
        ""
      ],
      "execution_count": null,
      "outputs": []
    },
    {
      "cell_type": "markdown",
      "metadata": {
        "id": "KaeuWXBZJdkm"
      },
      "source": [
        "Ej. 2) Escribir una función que reciba dos números enteros como parámetro y devuelva True si son iguales y False si son distintos"
      ]
    },
    {
      "cell_type": "code",
      "metadata": {
        "id": "9JAHgON4JsG9"
      },
      "source": [
        ""
      ],
      "execution_count": null,
      "outputs": []
    },
    {
      "cell_type": "markdown",
      "metadata": {
        "id": "vxce-PQVKWKc"
      },
      "source": [
        "Ej. 3) Rellenar una lista con 6 números enteros ingresador por el usuario.\n",
        "Buscar el mínimo y el lugar que ocupa. "
      ]
    },
    {
      "cell_type": "code",
      "metadata": {
        "id": "KAxY5fOuKfoi"
      },
      "source": [
        ""
      ],
      "execution_count": null,
      "outputs": []
    },
    {
      "cell_type": "markdown",
      "metadata": {
        "id": "yUYre4P_Jse3"
      },
      "source": [
        "Ej. 4) Leer números que representan edades de un grupo de personas, finalizando la lectura cuando se ingrese el número 999. \n",
        "\n",
        "Mostrar cuántos son menores de 18 años, cuántos tienen 18 años o\n",
        "más y el promedio de edades."
      ]
    },
    {
      "cell_type": "code",
      "metadata": {
        "id": "WQs03tmmJ558"
      },
      "source": [
        ""
      ],
      "execution_count": null,
      "outputs": []
    },
    {
      "cell_type": "markdown",
      "metadata": {
        "id": "0LKnfKniKtcE"
      },
      "source": [
        "Ej. 5) Escribir una función que calcule la suma de los números de una lista que recibe como parámetro."
      ]
    },
    {
      "cell_type": "markdown",
      "metadata": {
        "id": "-ZYKD7_-K_hV"
      },
      "source": [
        ""
      ]
    },
    {
      "cell_type": "code",
      "metadata": {
        "id": "pmgmzNJBK2Ue"
      },
      "source": [
        ""
      ],
      "execution_count": null,
      "outputs": []
    },
    {
      "cell_type": "markdown",
      "metadata": {
        "id": "goRVJEkUJ6K1"
      },
      "source": [
        "Ej. 6) Escribir un algoritmo que permita ingresar los números de legajo de los alumnos de un curso y su nota de examen final. El fin de la carga se determina ingresando un -1 en el legajo.\n",
        "\n",
        "Informar para cada alumno si aprobó o no el examen considerando que se aprueba con nota mayor o igual a 4. \n",
        "\n",
        "Terminada la carga de datos, informar:\n",
        "\n",
        "• Cantidad de alumnos que aprobaron con nota mayor o igual a 4.\n",
        "\n",
        "• Cantidad de alumnos que desaprobaron el examen. Nota menor a 4.\n",
        "\n",
        "• Porcentaje de alumnos que están aplazados (tienen 1 en el examen)\n",
        "\n",
        "Ayuda: No es necesario usar listas!"
      ]
    },
    {
      "cell_type": "code",
      "metadata": {
        "id": "-LzoGZVpKLBa"
      },
      "source": [
        ""
      ],
      "execution_count": null,
      "outputs": []
    },
    {
      "cell_type": "markdown",
      "metadata": {
        "id": "DseDanc6KLY0"
      },
      "source": [
        "Ej. 7) Diseñar una función que reciba dos números enteros como parámetros enteros A y B, y permita obtener A elevado a la B mediante **multiplicaciones sucesivas.**"
      ]
    },
    {
      "cell_type": "code",
      "metadata": {
        "id": "UvqacURULVG8"
      },
      "source": [
        ""
      ],
      "execution_count": null,
      "outputs": []
    },
    {
      "cell_type": "markdown",
      "metadata": {
        "id": "1sMYU8xMLiNd"
      },
      "source": [
        "Ej. 8) ¿Qué tipo de dato booleano representa 1>0?"
      ]
    },
    {
      "cell_type": "markdown",
      "metadata": {
        "id": "vf-GvEEgLszg"
      },
      "source": [
        "Respuesta: "
      ]
    },
    {
      "cell_type": "markdown",
      "metadata": {
        "id": "8PiE58vXLlVJ"
      },
      "source": [
        "Ej. 9) Escribir un algoritmo que permita el ingreso de ventas realizadas de zapatos. \n",
        "El ingreso finaliza al ingresar el número 0 como cantidad vendida. \n",
        "Los zapatos tienen una cantidad y precio de venta asociados.\n",
        "\n",
        "Al final del ingreso se debe mostrar:\n",
        "a) La cantidad de zapatos vendidos.\n",
        "b) El total de las ventas realizadas.\n",
        "c) El promedio de las ventas realizadas."
      ]
    },
    {
      "cell_type": "code",
      "metadata": {
        "id": "BMFi4pIaLtq0"
      },
      "source": [
        ""
      ],
      "execution_count": null,
      "outputs": []
    },
    {
      "cell_type": "markdown",
      "metadata": {
        "id": "c8hxYnusLuOB"
      },
      "source": [
        "Ej. 10) El tipo de dato booleano en python representa:\n",
        "\n",
        "a.\t1/0\n",
        "\n",
        "b.\tTrue/False\n",
        "\n",
        "c.\tA/B\n",
        "\n",
        "d.\tTodas las anteriores\n"
      ]
    },
    {
      "cell_type": "markdown",
      "metadata": {
        "id": "PUd1zNDaMJcf"
      },
      "source": [
        "Respuesta: "
      ]
    },
    {
      "cell_type": "markdown",
      "metadata": {
        "id": "FE-FfqEQMIvs"
      },
      "source": [
        "Ej. 11)\tLa función int() en Python:\n",
        "\n",
        "a.\tConvierte un valor a número real\n",
        "\n",
        "b.\tConvierte un valor a número entero\n",
        "\n",
        "c.\tConvierte un valor a cadena de caracteres\n",
        "\n",
        "d.\tConvierte un valor a booleano\n"
      ]
    },
    {
      "cell_type": "markdown",
      "metadata": {
        "id": "ir95F1dqMQMH"
      },
      "source": [
        "Respuesta:"
      ]
    },
    {
      "cell_type": "markdown",
      "metadata": {
        "id": "51mXy_W3MXq-"
      },
      "source": [
        "Ej.12)\tEscriba un algoritmo que permita el ingreso de números enteros positivos y negativos. El ingreso finaliza al ingresar el número 0 (no se tiene en cuenta el número 0 para los cálculos que se piden). Al finalizar el ingreso se debe mostrar:\n",
        "a.\tEl mayor de los números pares ingresados.\n",
        "b.\tEl promedio de los números pares ingresados.\n",
        "c.\tIndicar si se ingresaron más números pares o impares o la misma cantidad.\n",
        "d.\tIndicar el porcentaje de números impares que se ingresaron respecto del total de los números ingresados.\n"
      ]
    },
    {
      "cell_type": "code",
      "metadata": {
        "id": "68_O1neWMZJH"
      },
      "source": [
        ""
      ],
      "execution_count": null,
      "outputs": []
    },
    {
      "cell_type": "markdown",
      "metadata": {
        "id": "w6BrcWv0MhP5"
      },
      "source": [
        "Ej. 13) Ingresar números enteros, entre 1 y 10, por teclado que serán almacenados en una lista, por ejemplo: [5, 2, 6, 1]. El ingreso de números finaliza con el número 0. Los mismos deberán ser almacenados en una lista, a partir de la cual deberá generar y mostrar:\n",
        "\n",
        "a. Una lista con el doble de cada elemento: ej. [10, 4, 12, 2]\n",
        "\n",
        "b. Una lista con el triple de cada elemento ordenada de menor a mayor: ej.\n",
        "[3, 6, 15, 24]\n",
        "\n",
        "c. Contar la cantidad de números mayores a 10. Ej: “3 números mayores a\n",
        "10”\n",
        "\n",
        "d. Mostrar la lista original, las generadas (dobles y triples) y la cantidad de\n",
        "números mayores a 10 presentes en las listas generadas.\n",
        "\n",
        "\n",
        "Ej. \n",
        "\n",
        "Lista simple:​ [5, 2, 6, 1]\n",
        "\n",
        "Lista de dobles​: [10, 4, 12, 2]\n",
        "\n",
        "Lista de triples ordenada de menor a mayor:​ [3, 6, 15, 18]\n",
        "\n",
        "Análisis numérico:​ “3 números mayores a 10”"
      ]
    },
    {
      "cell_type": "code",
      "metadata": {
        "id": "bxVwlM7NMvk1"
      },
      "source": [
        ""
      ],
      "execution_count": null,
      "outputs": []
    }
  ]
}
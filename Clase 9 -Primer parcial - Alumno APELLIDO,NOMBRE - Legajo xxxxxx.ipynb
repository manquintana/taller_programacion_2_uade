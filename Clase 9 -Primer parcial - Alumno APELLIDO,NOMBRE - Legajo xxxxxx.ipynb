{
  "nbformat": 4,
  "nbformat_minor": 0,
  "metadata": {
    "colab": {
      "name": "Clase 9 - Primer parcial - Alumno: APELLIDO, NOMBRE - Legajo: xxxxxx",
      "provenance": [],
      "collapsed_sections": []
    },
    "kernelspec": {
      "name": "python3",
      "display_name": "Python 3"
    },
    "language_info": {
      "name": "python"
    }
  },
  "cells": [
    {
      "cell_type": "markdown",
      "metadata": {
        "id": "agSfY7VGN_B9"
      },
      "source": [
        "**Pautas generales**\n",
        "\n",
        "1. Debe dejar la cámara de la computadora encendida durante la resolución del mismo.\n",
        "\n",
        "2. Una vez resuelto el examen, colocar sus datos personales en el título.\n",
        "\n",
        "3. Luego, descargar la notebook con la resolución si se está trabajando en Google Colab (Archivo > Descargar > Descargar .ipynb) y enviarla por mail a manquintana@uade.edu.ar\n",
        "\n",
        "3. No se desconecte hasta que la recepción del mail haya sido confirmada.\n",
        "\n",
        "4. Tiempo disponible para la resolución: 3 hs (finaliza a las 11 am)\n",
        "\n",
        "5. Valor de los ejercicios:\n",
        "  1. 0,5 puntos\n",
        "  2. 0,5 puntos\n",
        "  3. 0,5 puntos\n",
        "  4. 0,5 puntos\n",
        "  5. 0,5 puntos\n",
        "  6. 0,5 puntos\n",
        "  7. 0,5 puntos\n",
        "  8. 0,5 puntos\n",
        "  9. 1 puntos\n",
        "  10. 1 puntos\n",
        "  11. 2 puntos\n",
        "  12. 2 puntos\n",
        "\n",
        "Requisitos de aprobación: Al menos el 60% del examen resuelto correctamente\n",
        "\n",
        "Puntaje:\n",
        "\n",
        "< 6 pts -> Nota: 2\n",
        "\n",
        "6 pts -> Nota: 4\n",
        "\n",
        "6,5 pts -> Nota: 5\n",
        "\n",
        "7 pts -> Nota: 6\n",
        "\n",
        "7,5 pts -> Nota: 7\n",
        "\n",
        "8 pts -> Nota: 8\n",
        "\n",
        "8,5 pts -> Nota: 8\n",
        "\n",
        "9 pts -> Nota: 9\n",
        "\n",
        "9,5 pts -> Nota: 9\n",
        "\n",
        "10  pts -> Nota: 10\n",
        "\n",
        "\n",
        "---"
      ]
    },
    {
      "cell_type": "markdown",
      "metadata": {
        "id": "moXAERqtJtBp"
      },
      "source": [
        "1) Una estructura iterativa puede ser representada por:\n",
        "\n",
        "a. for\n",
        "\n",
        "b. while\n",
        "\n",
        "c. if\n",
        "\n",
        "d. Todas las anteriores"
      ]
    },
    {
      "cell_type": "markdown",
      "metadata": {
        "id": "cD3NJj1bJtYe"
      },
      "source": [
        "Respuesta:\n"
      ]
    },
    {
      "cell_type": "markdown",
      "metadata": {
        "id": "XGChUXiXKMla"
      },
      "source": [
        "---\n",
        "\n",
        "2)\tEl tipo de dato booleano representa:\n",
        "\n",
        "a.\t1/0\n",
        "\n",
        "b.\tVerdadero/Falso\n",
        "\n",
        "c.\tA/B\n",
        "\n",
        "d.\tTodas las anteriores"
      ]
    },
    {
      "cell_type": "markdown",
      "metadata": {
        "id": "2wvFmCAAKRlB"
      },
      "source": [
        "Respuesta:\n"
      ]
    },
    {
      "cell_type": "markdown",
      "metadata": {
        "id": "hYA7ADbjJt2P"
      },
      "source": [
        "---\n",
        "\n",
        "4)\tLa función int() en Python:\n",
        "\n",
        "a.\tConvierte un valor a número real\n",
        "\n",
        "b.\tConvierte un valor a número entero\n",
        "\n",
        "c.\tConvierte un valor a cadena de caracteres\n",
        "\n",
        "d.\tConvierte un valor a booleano\n"
      ]
    },
    {
      "cell_type": "markdown",
      "metadata": {
        "id": "wQAGUZySKc-K"
      },
      "source": [
        "Respuesta:"
      ]
    },
    {
      "cell_type": "markdown",
      "metadata": {
        "id": "a-YusvxPKeJl"
      },
      "source": [
        "---\n",
        "\n",
        "5) ¿Para qué se usan las variables que se comportan como acumuladores y para qué se usan las variables que se comportan como contadores? Dar un ejemplo para ilustrar su respuesta"
      ]
    },
    {
      "cell_type": "markdown",
      "metadata": {
        "id": "TvNmlth3KzJj"
      },
      "source": [
        "Respuesta:"
      ]
    },
    {
      "cell_type": "markdown",
      "metadata": {
        "id": "k70xG1eFK0LO"
      },
      "source": [
        "---\n",
        "6) Complete la línea faltante de la función \"comparar_numeros\" para que devuelva True si los números que recibe como parámetro son iguales y False si los números son distintos\n"
      ]
    },
    {
      "cell_type": "code",
      "metadata": {
        "id": "gOMOvn7MJuH8"
      },
      "source": [
        "def comparar_numeros(num1, num2):\n",
        "  if (): # Complete esta linea\n",
        "    iguales = True\n",
        "  else\n",
        "    iguales = False\n",
        "  return iguales"
      ],
      "execution_count": null,
      "outputs": []
    },
    {
      "cell_type": "markdown",
      "metadata": {
        "id": "jAY-VT4bJuXC"
      },
      "source": [
        "---\n",
        "7) ¿Para qué sirven las funciones?\n",
        "\n",
        "a. Resuelven tareas en muchas líneas y dificultan la programación.\n",
        "\n",
        "b. Ejecutan una funcionalidad específica y permiten reutilizar código.\n",
        "\n",
        "c. Son entornos que facilitan la programación utilizando colores cuando se escribe código.\n",
        "\n",
        "d. Ninguna de las anteriores.\n"
      ]
    },
    {
      "cell_type": "markdown",
      "metadata": {
        "id": "yeSsYDBXL0k_"
      },
      "source": [
        "Respuesta: "
      ]
    },
    {
      "cell_type": "markdown",
      "metadata": {
        "id": "6ZFMG3eIL1gb"
      },
      "source": [
        "---\n",
        "8) ¿Cómo mostraría la cantidad de elementos de una lista llamada “numeros” en python?\n",
        "\n",
        "a.\tprint(len(numeros))\n",
        "\n",
        "b.\tprint(numeros.len())\n",
        "\n",
        "c.\tmostrar(len(numeros))\n",
        "\n",
        "d.\tprint(long(numeros))\n"
      ]
    },
    {
      "cell_type": "markdown",
      "metadata": {
        "id": "t9yhoB1LL9Oy"
      },
      "source": [
        "Respuesta: "
      ]
    },
    {
      "cell_type": "markdown",
      "metadata": {
        "id": "L4BetVd2L-Pv"
      },
      "source": [
        "---\n",
        "9) Escribir un programa que le solicite al usuario el ingreso de 10 números naturales.\n",
        "\n",
        "El programa debe informar cual es el menor y cual es el mayor de los números  ingresados.\n",
        "\n",
        "**Restricción: No se pueden utilizar listas**"
      ]
    },
    {
      "cell_type": "code",
      "metadata": {
        "id": "UfMIlckjJuor"
      },
      "source": [
        ""
      ],
      "execution_count": null,
      "outputs": []
    },
    {
      "cell_type": "markdown",
      "metadata": {
        "id": "MYB7An0FJu29"
      },
      "source": [
        "---\n",
        "10) Dada la siguiente lista, complete la función \"buscar_mayores\" que la recibe como parámetro y devuelve la cantidad de números mayores a 10 que contiene la lista."
      ]
    },
    {
      "cell_type": "code",
      "metadata": {
        "id": "uTafkw7yJvGJ"
      },
      "source": [
        "def buscar_mayores(numeros): # Complete esta función\n",
        "\n",
        "\n",
        "numeros = [2, 4, 10, 11, 20, 1, -4, 38, 17]\n",
        "cantidad = buscar_mayores(lista)\n",
        "print(f\"La lista contiene {cantidad} números mayores a 10\")"
      ],
      "execution_count": null,
      "outputs": []
    },
    {
      "cell_type": "markdown",
      "metadata": {
        "id": "2nFHn7EWJvXQ"
      },
      "source": [
        "---\n",
        "\n",
        "11) Escribir un algoritmo que permita ingresar las notas de los alumnos de un curso (serán números enteros de 1 a 10 -no hace falta validarlo-), sabiendo que el ingreso finaliza con -1. \n",
        "\n",
        "Se pide informar:\n",
        "\n",
        "a. Cuantas notas son aprobadas (nota 4 o más).\n",
        "\n",
        "b. El promedio entre todas las notas ingresadas"
      ]
    },
    {
      "cell_type": "code",
      "metadata": {
        "id": "Xx8eJ0K6O75h"
      },
      "source": [
        ""
      ],
      "execution_count": null,
      "outputs": []
    },
    {
      "cell_type": "markdown",
      "metadata": {
        "id": "KmI1UxNPN88p"
      },
      "source": [
        "---\n",
        "12) Leer los números de legajo de los alumnos de un curso y su nota de examen final. El fin de la carga se determina ingresando -1 como legajo.\n",
        "\n",
        "Cargar los números de legajo en la lista “legajos” y las notas en la lista “notas”. \n",
        "\n",
        "**No es requisito** validar que no se permita ingresar nuevamente un número de legajo que ya esté cargado.\n",
        "\n",
        "Una vez finalizada la carga se desea:\n",
        "\n",
        "a. Pedirle al usuario que ingrese un número de legajo y si existe, mostrar su nota correspondiente.\n",
        "\n",
        "b. Mostrar los legajos de los alumnos cuya nota supera el promedio general.\n"
      ]
    },
    {
      "cell_type": "code",
      "metadata": {
        "id": "0pbc4pq_JvsR"
      },
      "source": [
        ""
      ],
      "execution_count": null,
      "outputs": []
    }
  ]
}